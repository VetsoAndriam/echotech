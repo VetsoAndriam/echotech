{
 "cells": [
  {
   "cell_type": "code",
   "execution_count": 126,
   "id": "c07bedea-697b-4a82-a85d-7d6e963b5c64",
   "metadata": {},
   "outputs": [],
   "source": [
    "from PIL import Image\n",
    "import pytesseract\n",
    "import re\n",
    "import json"
   ]
  },
  {
   "cell_type": "code",
   "execution_count": 127,
   "id": "dcacf861",
   "metadata": {},
   "outputs": [],
   "source": [
    "def getDate(text):\n",
    "    patternDate = r'\\d{4}/\\d{2}/\\d{2}'\n",
    "    return re.findall(patternDate, text)\n",
    "    \n"
   ]
  },
  {
   "cell_type": "code",
   "execution_count": 128,
   "id": "85261a58",
   "metadata": {},
   "outputs": [],
   "source": [
    "def getHeure(text):\n",
    "    patternHeure = r'\\d{2}:\\d{2}:\\d{2}'\n",
    "    return re.findall(patternHeure, text)\n",
    "    "
   ]
  },
  {
   "cell_type": "code",
   "execution_count": 129,
   "id": "6d3e5cf2",
   "metadata": {},
   "outputs": [],
   "source": [
    "def getCoordonne(text):\n",
    "    patternE = r'E\\s(.*?)\\s'\n",
    "    patternN = r'N\\s(.*?)\\s'\n",
    "    X = re.findall(patternE, text)\n",
    "    Y = re.findall(patternN, text)\n",
    "    \n",
    "    coordonne = {\n",
    "        \"X\" : X[0],\n",
    "        \"Y\" : Y[0]\n",
    "    }\n",
    "    return coordonne"
   ]
  },
  {
   "cell_type": "code",
   "execution_count": 130,
   "id": "d2bdbd9b-96c5-4a74-b681-08695d0d4b0a",
   "metadata": {},
   "outputs": [],
   "source": [
    "def getHoraires(srcImage):\n",
    "   text = pytesseract.image_to_string(Image.open(srcImage))\n",
    "   date = getDate(text)\n",
    "   heure= getHeure(text)\n",
    "   dateIso= getIsoDate(date[0], heure[0])\n",
    "   coordonne = getCoordonne(text)\n",
    "   data = {\n",
    "        \"heure\" : dateIso,\n",
    "        \"Y\" : coordonne['Y'],\n",
    "        \"X\" : coordonne['X']\n",
    "    }\n",
    "   return data;\n",
    "    "
   ]
  },
  {
   "cell_type": "code",
   "execution_count": 136,
   "id": "c5496771",
   "metadata": {},
   "outputs": [],
   "source": [
    "def getIsoDate(date, heure):\n",
    "    year = date[:4]\n",
    "    month = date[5:7]\n",
    "    day = date[8:]\n",
    "    hour = heure[:3]\n",
    "    minute = heure[3:6]\n",
    "    second = heure[6:]\n",
    "    iso_date = f\"{year}-{month}-{day}T{hour}{minute}{second}\"\n",
    "    return iso_date"
   ]
  },
  {
   "cell_type": "code",
   "execution_count": 137,
   "id": "eeaa2334",
   "metadata": {},
   "outputs": [],
   "source": [
    "text = pytesseract.image_to_string(Image.open(\"DataHoraire/data1.png\"))\n",
    "date = getDate(text)\n",
    "heure= getHeure(text)\n",
    "dateIso= getIsoDate(date[0], heure[0])"
   ]
  },
  {
   "cell_type": "code",
   "execution_count": 138,
   "id": "7a41b1f4-62da-40d0-b91c-ad04b44835df",
   "metadata": {},
   "outputs": [
    {
     "name": "stdout",
     "output_type": "stream",
     "text": [
      "{'heure': '2024-09-19T10:34:42', 'Y': '43.457617', 'X': '6.487652'}\n"
     ]
    }
   ],
   "source": [
    "data = getHoraires(\"DataHoraire/data1.png\")\n",
    "print(data);"
   ]
  }
 ],
 "metadata": {
  "kernelspec": {
   "display_name": "Python 3",
   "language": "python",
   "name": "python3"
  },
  "language_info": {
   "codemirror_mode": {
    "name": "ipython",
    "version": 3
   },
   "file_extension": ".py",
   "mimetype": "text/x-python",
   "name": "python",
   "nbconvert_exporter": "python",
   "pygments_lexer": "ipython3",
   "version": "3.12.1"
  }
 },
 "nbformat": 4,
 "nbformat_minor": 5
}
